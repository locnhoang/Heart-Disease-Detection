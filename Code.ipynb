{
 "cells": [
  {
   "cell_type": "markdown",
   "id": "0970c980-8fa8-4b9f-9d9a-fab5e2f5c757",
   "metadata": {},
   "source": [
    "# Importing Libraries"
   ]
  },
  {
   "cell_type": "code",
   "execution_count": 155,
   "id": "9c2f13d0-95d2-43ea-9421-c2a74120b315",
   "metadata": {},
   "outputs": [],
   "source": [
    "#Import Libraries\n",
    "import numpy as np\n",
    "import pandas as pd\n",
    "import seaborn as sns\n",
    "import matplotlib.pyplot as plt\n",
    "import statsmodels.api as sm\n",
    "import itertools\n",
    "from sklearn.model_selection import train_test_split\n",
    "from sklearn.linear_model import LogisticRegression\n",
    "from sklearn.ensemble import RandomForestClassifier\n",
    "from sklearn.metrics import accuracy_score, classification_report, confusion_matrix\n",
    "from sklearn.preprocessing import StandardScaler\n",
    "from sklearn.feature_selection import RFE\n",
    "from sklearn.preprocessing import OneHotEncoder\n",
    "from sklearn.compose import ColumnTransformer\n",
    "from sklearn.pipeline import Pipeline\n",
    "from sklearn.impute import SimpleImputer"
   ]
  },
  {
   "cell_type": "markdown",
   "id": "8a19d7d9-cca8-4539-a4ac-45b8328bad1e",
   "metadata": {},
   "source": [
    "# Exploring the Data"
   ]
  },
  {
   "cell_type": "code",
   "execution_count": 157,
   "id": "ed424e8e-9f70-42d6-973d-32e14da0f97a",
   "metadata": {},
   "outputs": [
    {
     "data": {
      "text/html": [
       "<div>\n",
       "<style scoped>\n",
       "    .dataframe tbody tr th:only-of-type {\n",
       "        vertical-align: middle;\n",
       "    }\n",
       "\n",
       "    .dataframe tbody tr th {\n",
       "        vertical-align: top;\n",
       "    }\n",
       "\n",
       "    .dataframe thead th {\n",
       "        text-align: right;\n",
       "    }\n",
       "</style>\n",
       "<table border=\"1\" class=\"dataframe\">\n",
       "  <thead>\n",
       "    <tr style=\"text-align: right;\">\n",
       "      <th></th>\n",
       "      <th>age</th>\n",
       "      <th>sex</th>\n",
       "      <th>cp</th>\n",
       "      <th>trestbps</th>\n",
       "      <th>chol</th>\n",
       "      <th>fbs</th>\n",
       "      <th>restecg</th>\n",
       "      <th>thalach</th>\n",
       "      <th>exang</th>\n",
       "      <th>oldpeak</th>\n",
       "      <th>slope</th>\n",
       "      <th>ca</th>\n",
       "      <th>thal</th>\n",
       "      <th>target</th>\n",
       "    </tr>\n",
       "  </thead>\n",
       "  <tbody>\n",
       "    <tr>\n",
       "      <th>0</th>\n",
       "      <td>52</td>\n",
       "      <td>1</td>\n",
       "      <td>0</td>\n",
       "      <td>125</td>\n",
       "      <td>212</td>\n",
       "      <td>0</td>\n",
       "      <td>1</td>\n",
       "      <td>168</td>\n",
       "      <td>0</td>\n",
       "      <td>1.0</td>\n",
       "      <td>2</td>\n",
       "      <td>2</td>\n",
       "      <td>3</td>\n",
       "      <td>0</td>\n",
       "    </tr>\n",
       "    <tr>\n",
       "      <th>1</th>\n",
       "      <td>53</td>\n",
       "      <td>1</td>\n",
       "      <td>0</td>\n",
       "      <td>140</td>\n",
       "      <td>203</td>\n",
       "      <td>1</td>\n",
       "      <td>0</td>\n",
       "      <td>155</td>\n",
       "      <td>1</td>\n",
       "      <td>3.1</td>\n",
       "      <td>0</td>\n",
       "      <td>0</td>\n",
       "      <td>3</td>\n",
       "      <td>0</td>\n",
       "    </tr>\n",
       "    <tr>\n",
       "      <th>2</th>\n",
       "      <td>70</td>\n",
       "      <td>1</td>\n",
       "      <td>0</td>\n",
       "      <td>145</td>\n",
       "      <td>174</td>\n",
       "      <td>0</td>\n",
       "      <td>1</td>\n",
       "      <td>125</td>\n",
       "      <td>1</td>\n",
       "      <td>2.6</td>\n",
       "      <td>0</td>\n",
       "      <td>0</td>\n",
       "      <td>3</td>\n",
       "      <td>0</td>\n",
       "    </tr>\n",
       "    <tr>\n",
       "      <th>3</th>\n",
       "      <td>61</td>\n",
       "      <td>1</td>\n",
       "      <td>0</td>\n",
       "      <td>148</td>\n",
       "      <td>203</td>\n",
       "      <td>0</td>\n",
       "      <td>1</td>\n",
       "      <td>161</td>\n",
       "      <td>0</td>\n",
       "      <td>0.0</td>\n",
       "      <td>2</td>\n",
       "      <td>1</td>\n",
       "      <td>3</td>\n",
       "      <td>0</td>\n",
       "    </tr>\n",
       "    <tr>\n",
       "      <th>4</th>\n",
       "      <td>62</td>\n",
       "      <td>0</td>\n",
       "      <td>0</td>\n",
       "      <td>138</td>\n",
       "      <td>294</td>\n",
       "      <td>1</td>\n",
       "      <td>1</td>\n",
       "      <td>106</td>\n",
       "      <td>0</td>\n",
       "      <td>1.9</td>\n",
       "      <td>1</td>\n",
       "      <td>3</td>\n",
       "      <td>2</td>\n",
       "      <td>0</td>\n",
       "    </tr>\n",
       "    <tr>\n",
       "      <th>...</th>\n",
       "      <td>...</td>\n",
       "      <td>...</td>\n",
       "      <td>...</td>\n",
       "      <td>...</td>\n",
       "      <td>...</td>\n",
       "      <td>...</td>\n",
       "      <td>...</td>\n",
       "      <td>...</td>\n",
       "      <td>...</td>\n",
       "      <td>...</td>\n",
       "      <td>...</td>\n",
       "      <td>...</td>\n",
       "      <td>...</td>\n",
       "      <td>...</td>\n",
       "    </tr>\n",
       "    <tr>\n",
       "      <th>1020</th>\n",
       "      <td>59</td>\n",
       "      <td>1</td>\n",
       "      <td>1</td>\n",
       "      <td>140</td>\n",
       "      <td>221</td>\n",
       "      <td>0</td>\n",
       "      <td>1</td>\n",
       "      <td>164</td>\n",
       "      <td>1</td>\n",
       "      <td>0.0</td>\n",
       "      <td>2</td>\n",
       "      <td>0</td>\n",
       "      <td>2</td>\n",
       "      <td>1</td>\n",
       "    </tr>\n",
       "    <tr>\n",
       "      <th>1021</th>\n",
       "      <td>60</td>\n",
       "      <td>1</td>\n",
       "      <td>0</td>\n",
       "      <td>125</td>\n",
       "      <td>258</td>\n",
       "      <td>0</td>\n",
       "      <td>0</td>\n",
       "      <td>141</td>\n",
       "      <td>1</td>\n",
       "      <td>2.8</td>\n",
       "      <td>1</td>\n",
       "      <td>1</td>\n",
       "      <td>3</td>\n",
       "      <td>0</td>\n",
       "    </tr>\n",
       "    <tr>\n",
       "      <th>1022</th>\n",
       "      <td>47</td>\n",
       "      <td>1</td>\n",
       "      <td>0</td>\n",
       "      <td>110</td>\n",
       "      <td>275</td>\n",
       "      <td>0</td>\n",
       "      <td>0</td>\n",
       "      <td>118</td>\n",
       "      <td>1</td>\n",
       "      <td>1.0</td>\n",
       "      <td>1</td>\n",
       "      <td>1</td>\n",
       "      <td>2</td>\n",
       "      <td>0</td>\n",
       "    </tr>\n",
       "    <tr>\n",
       "      <th>1023</th>\n",
       "      <td>50</td>\n",
       "      <td>0</td>\n",
       "      <td>0</td>\n",
       "      <td>110</td>\n",
       "      <td>254</td>\n",
       "      <td>0</td>\n",
       "      <td>0</td>\n",
       "      <td>159</td>\n",
       "      <td>0</td>\n",
       "      <td>0.0</td>\n",
       "      <td>2</td>\n",
       "      <td>0</td>\n",
       "      <td>2</td>\n",
       "      <td>1</td>\n",
       "    </tr>\n",
       "    <tr>\n",
       "      <th>1024</th>\n",
       "      <td>54</td>\n",
       "      <td>1</td>\n",
       "      <td>0</td>\n",
       "      <td>120</td>\n",
       "      <td>188</td>\n",
       "      <td>0</td>\n",
       "      <td>1</td>\n",
       "      <td>113</td>\n",
       "      <td>0</td>\n",
       "      <td>1.4</td>\n",
       "      <td>1</td>\n",
       "      <td>1</td>\n",
       "      <td>3</td>\n",
       "      <td>0</td>\n",
       "    </tr>\n",
       "  </tbody>\n",
       "</table>\n",
       "<p>1025 rows × 14 columns</p>\n",
       "</div>"
      ],
      "text/plain": [
       "      age  sex  cp  trestbps  chol  fbs  restecg  thalach  exang  oldpeak  \\\n",
       "0      52    1   0       125   212    0        1      168      0      1.0   \n",
       "1      53    1   0       140   203    1        0      155      1      3.1   \n",
       "2      70    1   0       145   174    0        1      125      1      2.6   \n",
       "3      61    1   0       148   203    0        1      161      0      0.0   \n",
       "4      62    0   0       138   294    1        1      106      0      1.9   \n",
       "...   ...  ...  ..       ...   ...  ...      ...      ...    ...      ...   \n",
       "1020   59    1   1       140   221    0        1      164      1      0.0   \n",
       "1021   60    1   0       125   258    0        0      141      1      2.8   \n",
       "1022   47    1   0       110   275    0        0      118      1      1.0   \n",
       "1023   50    0   0       110   254    0        0      159      0      0.0   \n",
       "1024   54    1   0       120   188    0        1      113      0      1.4   \n",
       "\n",
       "      slope  ca  thal  target  \n",
       "0         2   2     3       0  \n",
       "1         0   0     3       0  \n",
       "2         0   0     3       0  \n",
       "3         2   1     3       0  \n",
       "4         1   3     2       0  \n",
       "...     ...  ..   ...     ...  \n",
       "1020      2   0     2       1  \n",
       "1021      1   1     3       0  \n",
       "1022      1   1     2       0  \n",
       "1023      2   0     2       1  \n",
       "1024      1   1     3       0  \n",
       "\n",
       "[1025 rows x 14 columns]"
      ]
     },
     "execution_count": 157,
     "metadata": {},
     "output_type": "execute_result"
    }
   ],
   "source": [
    "# Load Dataset\n",
    "heart = pd.read_csv('/Users/lochoang/Desktop/IndependentStudy/heart.csv')\n",
    "heart"
   ]
  },
  {
   "cell_type": "code",
   "execution_count": 158,
   "id": "ea14c31b-da71-4eaf-b012-8cea387078f6",
   "metadata": {},
   "outputs": [
    {
     "name": "stdout",
     "output_type": "stream",
     "text": [
      "<class 'pandas.core.frame.DataFrame'>\n",
      "RangeIndex: 1025 entries, 0 to 1024\n",
      "Data columns (total 14 columns):\n",
      " #   Column    Non-Null Count  Dtype  \n",
      "---  ------    --------------  -----  \n",
      " 0   age       1025 non-null   int64  \n",
      " 1   sex       1025 non-null   int64  \n",
      " 2   cp        1025 non-null   int64  \n",
      " 3   trestbps  1025 non-null   int64  \n",
      " 4   chol      1025 non-null   int64  \n",
      " 5   fbs       1025 non-null   int64  \n",
      " 6   restecg   1025 non-null   int64  \n",
      " 7   thalach   1025 non-null   int64  \n",
      " 8   exang     1025 non-null   int64  \n",
      " 9   oldpeak   1025 non-null   float64\n",
      " 10  slope     1025 non-null   int64  \n",
      " 11  ca        1025 non-null   int64  \n",
      " 12  thal      1025 non-null   int64  \n",
      " 13  target    1025 non-null   int64  \n",
      "dtypes: float64(1), int64(13)\n",
      "memory usage: 112.2 KB\n"
     ]
    }
   ],
   "source": [
    "heart.info()"
   ]
  },
  {
   "cell_type": "code",
   "execution_count": 159,
   "id": "a84c8d22-80c8-4367-9be7-cffcf169944f",
   "metadata": {},
   "outputs": [
    {
     "data": {
      "text/plain": [
       "<bound method NDFrame.describe of       age  sex  cp  trestbps  chol  fbs  restecg  thalach  exang  oldpeak  \\\n",
       "0      52    1   0       125   212    0        1      168      0      1.0   \n",
       "1      53    1   0       140   203    1        0      155      1      3.1   \n",
       "2      70    1   0       145   174    0        1      125      1      2.6   \n",
       "3      61    1   0       148   203    0        1      161      0      0.0   \n",
       "4      62    0   0       138   294    1        1      106      0      1.9   \n",
       "...   ...  ...  ..       ...   ...  ...      ...      ...    ...      ...   \n",
       "1020   59    1   1       140   221    0        1      164      1      0.0   \n",
       "1021   60    1   0       125   258    0        0      141      1      2.8   \n",
       "1022   47    1   0       110   275    0        0      118      1      1.0   \n",
       "1023   50    0   0       110   254    0        0      159      0      0.0   \n",
       "1024   54    1   0       120   188    0        1      113      0      1.4   \n",
       "\n",
       "      slope  ca  thal  target  \n",
       "0         2   2     3       0  \n",
       "1         0   0     3       0  \n",
       "2         0   0     3       0  \n",
       "3         2   1     3       0  \n",
       "4         1   3     2       0  \n",
       "...     ...  ..   ...     ...  \n",
       "1020      2   0     2       1  \n",
       "1021      1   1     3       0  \n",
       "1022      1   1     2       0  \n",
       "1023      2   0     2       1  \n",
       "1024      1   1     3       0  \n",
       "\n",
       "[1025 rows x 14 columns]>"
      ]
     },
     "execution_count": 159,
     "metadata": {},
     "output_type": "execute_result"
    }
   ],
   "source": [
    "heart.describe"
   ]
  },
  {
   "cell_type": "markdown",
   "id": "760f4b62-21f8-4d11-8471-9dadb7c7142e",
   "metadata": {},
   "source": [
    "# Preprocesssing and Cleaning Data"
   ]
  },
  {
   "cell_type": "code",
   "execution_count": 161,
   "id": "d3e00c11-d531-4621-a4ef-61adc593f03a",
   "metadata": {},
   "outputs": [
    {
     "name": "stdout",
     "output_type": "stream",
     "text": [
      "302 distinct rows and 723 duplicate rows. The original set has 1025 rows\n"
     ]
    }
   ],
   "source": [
    "# Data Preprocessing // Cleaning\n",
    "distinct_count = len(heart.drop_duplicates())\n",
    "dupe_count = len(heart) - distinct_count\n",
    "print(f'{distinct_count} distinct rows and {dupe_count} duplicate rows. The original set has {distinct_count + dupe_count} rows')"
   ]
  },
  {
   "cell_type": "code",
   "execution_count": 162,
   "id": "aee3e085-df07-4ee3-8933-733f0e090414",
   "metadata": {},
   "outputs": [
    {
     "name": "stdout",
     "output_type": "stream",
     "text": [
      "After dropping every null row, there remains 1025 meaning that are no null rows\n"
     ]
    }
   ],
   "source": [
    "# Null rows\n",
    "null_values = len(heart.dropna())\n",
    "print(f'After dropping every null row, there remains {null_values} meaning that are no null rows')"
   ]
  },
  {
   "cell_type": "code",
   "execution_count": 163,
   "id": "34addaf2-1263-441a-b3f6-44d3a38eb07d",
   "metadata": {},
   "outputs": [],
   "source": [
    "# Remove duplicate rows\n",
    "heart = heart.drop_duplicates()"
   ]
  },
  {
   "cell_type": "markdown",
   "id": "e3bef4bc-18cc-483f-adf0-36383d2bbcbe",
   "metadata": {},
   "source": [
    "# Feature / Data Visualization"
   ]
  },
  {
   "cell_type": "code",
   "execution_count": 165,
   "id": "0ec534c9-59ca-4df4-82e3-8176fa15673f",
   "metadata": {},
   "outputs": [
    {
     "data": {
      "image/png": "[encoded data removed]",
      "text/plain": [
       "<Figure size 640x480 with 1 Axes>"
      ]
     },
     "metadata": {},
     "output_type": "display_data"
    }
   ],
   "source": [
    "plt.hist(heart['age'], color='salmon', edgecolor='black')\n",
    "plt.title('Age Distribution')\n",
    "plt.xlabel('Age')\n",
    "plt.ylabel('Frequency')\n",
    "plt.show()"
   ]
  },
  {
   "cell_type": "code",
   "execution_count": 166,
   "id": "2a35231f-e3e9-4350-9b78-adf53d52fd8c",
   "metadata": {},
   "outputs": [
    {
     "data": {
      "image/png": "[encoded data removed]",
      "text/plain": [
       "<Figure size 640x480 with 1 Axes>"
      ]
     },
     "metadata": {},
     "output_type": "display_data"
    }
   ],
   "source": [
    "# pie graph for sex distribution\n",
    "plt.pie(heart['sex'].value_counts().sort_index(), labels=['Female', 'Male'], autopct='%1.1f%%', colors=['salmon', 'lightblue'])\n",
    "plt.title('Sex Distribution')\n",
    "plt.show()\n"
   ]
  },
  {
   "cell_type": "code",
   "execution_count": 167,
   "id": "9bf6b0a6-bee8-4bdc-8479-5454da880bbb",
   "metadata": {},
   "outputs": [
    {
     "data": {
      "image/png": "[encoded data removed]",
      "text/plain": [
       "<Figure size 640x480 with 1 Axes>"
      ]
     },
     "metadata": {},
     "output_type": "display_data"
    }
   ],
   "source": [
    "# chest pain distribution\n",
    "plt.pie(heart['cp'].value_counts().sort_index(), labels = ['0 - None','1 - Mild','2 - Moderate','3 - Severe'], autopct = '%1.1f%%',colors=['aliceblue','powderblue','lightblue','skyblue'])\n",
    "plt.title('Chest Pain Distribution')\n",
    "plt.show()\n"
   ]
  },
  {
   "cell_type": "code",
   "execution_count": 168,
   "id": "b1b378c7-39c6-4ec2-8f39-e755edb96270",
   "metadata": {},
   "outputs": [
    {
     "data": {
      "image/png": "[encoded data removed]",
      "text/plain": [
       "<Figure size 640x480 with 1 Axes>"
      ]
     },
     "metadata": {},
     "output_type": "display_data"
    }
   ],
   "source": [
    "plt.hist(heart['trestbps'],color=['indianred'],edgecolor='black')\n",
    "plt.title('Frequency of Resting Blood Pressure')\n",
    "plt.xlabel('Resting Blood Pressure (mm Hg)')\n",
    "plt.ylabel('Frequency')\n",
    "plt.show()"
   ]
  },
  {
   "cell_type": "code",
   "execution_count": 169,
   "id": "f77b9cb7-3f33-458a-93fd-b0795ce7e835",
   "metadata": {},
   "outputs": [
    {
     "data": {
      "image/png": "[encoded data removed]",
      "text/plain": [
       "<Figure size 640x480 with 1 Axes>"
      ]
     },
     "metadata": {},
     "output_type": "display_data"
    }
   ],
   "source": [
    "plt.hist(heart['chol'],color=['lightblue'],edgecolor='black')\n",
    "plt.title('Cholesterol Distribution')\n",
    "plt.xlabel('Cholesterol (mg/dL)')\n",
    "plt.ylabel('Frequency')\n",
    "plt.show()"
   ]
  },
  {
   "cell_type": "code",
   "execution_count": 170,
   "id": "736b8686-fba2-46ec-ac9c-51b8c0707d8d",
   "metadata": {},
   "outputs": [
    {
     "data": {
      "image/png": "[encoded data removed]",
      "text/plain": [
       "<Figure size 640x480 with 1 Axes>"
      ]
     },
     "metadata": {},
     "output_type": "display_data"
    }
   ],
   "source": [
    "plt.pie(heart['fbs'].value_counts().sort_index(), labels=['<= 120mg/dL', '> 120mg/dL'], autopct='%1.1f%%', colors=['lightcoral', 'indianred'])\n",
    "plt.title('Fasting Blood Sugar Distribution')\n",
    "plt.show()"
   ]
  },
  {
   "cell_type": "code",
   "execution_count": 171,
   "id": "71b8aa14-bfcc-455b-9741-ffdaa304a316",
   "metadata": {},
   "outputs": [
    {
     "data": {
      "image/png": "[encoded data removed]",
      "text/plain": [
       "<Figure size 640x480 with 1 Axes>"
      ]
     },
     "metadata": {},
     "output_type": "display_data"
    }
   ],
   "source": [
    "plt.pie(heart['restecg'].value_counts().sort_index(),labels=['0 - None', '1 - Mild','2 - Severe'],autopct='%1.1f%%',colors=['aliceblue','powderblue','skyblue'])\n",
    "plt.title('Resting Electrocardiographic Distribution')\n",
    "plt.show()"
   ]
  },
  {
   "cell_type": "code",
   "execution_count": 172,
   "id": "610447fe-bbbb-47dd-b729-2c17ee9f5a20",
   "metadata": {},
   "outputs": [
    {
     "data": {
      "image/png": "[encoded data removed]",
      "text/plain": [
       "<Figure size 640x480 with 1 Axes>"
      ]
     },
     "metadata": {},
     "output_type": "display_data"
    }
   ],
   "source": [
    "plt.hist(heart['thalach'],color='salmon',edgecolor='black')\n",
    "plt.title('Max Heart Rate Distribution')\n",
    "plt.xlabel('Max Heart Rate (bpm)')\n",
    "plt.ylabel('Frequency')\n",
    "plt.show()"
   ]
  },
  {
   "cell_type": "code",
   "execution_count": 173,
   "id": "e721bd3a-997b-46f4-8930-610851f9b99a",
   "metadata": {},
   "outputs": [
    {
     "data": {
      "image/png": "[encoded data removed]",
      "text/plain": [
       "<Figure size 640x480 with 1 Axes>"
      ]
     },
     "metadata": {},
     "output_type": "display_data"
    }
   ],
   "source": [
    "plt.pie(heart['exang'].value_counts().sort_index(),labels=['0 = No','1 = Yes'],autopct='%1.1f%%',colors=['powderblue','indianred'])\n",
    "plt.title('Excercise Induced Angina Distribution')\n",
    "plt.show()"
   ]
  },
  {
   "cell_type": "code",
   "execution_count": 174,
   "id": "9059dbde-6ff1-4d37-9acc-65479274e4a3",
   "metadata": {},
   "outputs": [
    {
     "data": {
      "image/png": "[encoded data removed]",
      "text/plain": [
       "<Figure size 640x480 with 1 Axes>"
      ]
     },
     "metadata": {},
     "output_type": "display_data"
    }
   ],
   "source": [
    "plt.pie(heart['ca'].value_counts().sort_index(), labels=['0 - None','1 - Minor','2 - Mild','3 - Moderate','4 - Severe'], autopct='%1.1f%%', colors=['mistyrose', 'lightcoral', 'indianred', 'brown', 'maroon'])\n",
    "plt.title('Number of Major Vessels Coloured by Flourosopy Distribution')\n",
    "plt.show()"
   ]
  },
  {
   "cell_type": "markdown",
   "id": "3feeb82c-5a57-4eca-a741-39c720456469",
   "metadata": {},
   "source": [
    "# Target vs Feature Data Visualization"
   ]
  },
  {
   "cell_type": "code",
   "execution_count": 176,
   "id": "510f7d81-e863-4e44-b2ab-95a74f6afca5",
   "metadata": {},
   "outputs": [
    {
     "data": {
      "image/png": "[encoded data removed]",
      "text/plain": [
       "<Figure size 1000x600 with 1 Axes>"
      ]
     },
     "metadata": {},
     "output_type": "display_data"
    }
   ],
   "source": [
    "# heart disease frequency vs sex\n",
    "pd.crosstab(heart.target, heart.sex).plot(kind=\"bar\",figsize=(10,6),color=[\"salmon\",\"lightblue\"])\n",
    "plt.title(\"Heart Disease Frequency for Sex\")\n",
    "plt.xlabel(\"0 = No Disease, 1=Disease\")\n",
    "plt.ylabel(\"Amount\")\n",
    "plt.legend([\"Female\",\"Male\"]);\n",
    "plt.xticks(rotation=0);"
   ]
  },
  {
   "cell_type": "code",
   "execution_count": 177,
   "id": "d6f96823-a6dc-4cb3-b951-758b6e409c4b",
   "metadata": {},
   "outputs": [
    {
     "data": {
      "image/png": "[encoded data removed]",
      "text/plain": [
       "<Figure size 1000x800 with 2 Axes>"
      ]
     },
     "metadata": {},
     "output_type": "display_data"
    }
   ],
   "source": [
    "corr_matrix = heart.corr()\n",
    "plt.figure(figsize=(10,8))\n",
    "sns.heatmap(corr_matrix, annot=False, fmt=\".1f\", cmap=\"coolwarm\", linewidths=0.5)\n",
    "plt.title(\"Feature Correlation Matrix\")\n",
    "plt.xticks(rotation=45)\n",
    "plt.yticks(rotation=0)\n",
    "plt.show()"
   ]
  },
  {
   "cell_type": "markdown",
   "id": "23de915f-c486-418b-892a-d60fee31e5be",
   "metadata": {},
   "source": [
    "# Models"
   ]
  },
  {
   "cell_type": "code",
   "execution_count": 179,
   "id": "fbbeada0-a9af-4331-8999-e38ff4431b7d",
   "metadata": {},
   "outputs": [],
   "source": [
    "# log reg\n",
    "X = heart.drop('target', axis=1) \n",
    "y = heart['target']\n",
    "X.fillna(X.mean())  \n",
    "#feature scaling\n",
    "scaler = StandardScaler()\n",
    "X_scaled = scaler.fit_transform(X)"
   ]
  },
  {
   "cell_type": "code",
   "execution_count": 180,
   "id": "6c2d70fb-0875-47a8-b324-dc3d1244ed9d",
   "metadata": {},
   "outputs": [],
   "source": [
    "# splitting data set\n",
    "X_train, X_test, y_train, y_test = train_test_split(X,\n",
    "                                                    y,\n",
    "                                                    random_state=314,\n",
    "                                                    test_size=0.25, \n",
    "                                                    shuffle=True) "
   ]
  },
  {
   "cell_type": "code",
   "execution_count": 181,
   "id": "c239c56a-def2-4ad8-814e-9433af800653",
   "metadata": {},
   "outputs": [],
   "source": [
    "model = LogisticRegression(max_iter=750)\n",
    "model.fit(X_train, y_train)\n",
    "y_pred = model.predict(X_test)"
   ]
  },
  {
   "cell_type": "code",
   "execution_count": 182,
   "id": "a707a6cb-d203-412f-ade1-d76891897223",
   "metadata": {},
   "outputs": [
    {
     "name": "stdout",
     "output_type": "stream",
     "text": [
      "Accuracy: 0.8552631578947368\n",
      "Classification Report:\n",
      "               precision    recall  f1-score   support\n",
      "\n",
      "           0       0.86      0.78      0.82        32\n",
      "           1       0.85      0.91      0.88        44\n",
      "\n",
      "    accuracy                           0.86        76\n",
      "   macro avg       0.86      0.85      0.85        76\n",
      "weighted avg       0.86      0.86      0.85        76\n",
      "\n",
      "Confusion Matrix:\n",
      " [[25  7]\n",
      " [ 4 40]]\n",
      "25 True Negatives, 7 False Postives, 4 False Negatives, 40 True Positives\n"
     ]
    }
   ],
   "source": [
    "accuracy = accuracy_score(y_test, y_pred)\n",
    "print(f\"Accuracy: {accuracy}\")\n",
    "print(\"Classification Report:\\n\", classification_report(y_test, y_pred))\n",
    "print(\"Confusion Matrix:\\n\", confusion_matrix(y_test, y_pred))\n",
    "print('25 True Negatives, 7 False Postives, 4 False Negatives, 40 True Positives')"
   ]
  },
  {
   "cell_type": "code",
   "execution_count": 183,
   "id": "b324247f-fbf9-4328-88f0-dfa019c33d63",
   "metadata": {},
   "outputs": [
    {
     "name": "stdout",
     "output_type": "stream",
     "text": [
      "Optimization terminated successfully.\n",
      "         Current function value: 0.334280\n",
      "         Iterations 7\n",
      "                           Logit Regression Results                           \n",
      "==============================================================================\n",
      "Dep. Variable:                 target   No. Observations:                  226\n",
      "Model:                          Logit   Df Residuals:                      213\n",
      "Method:                           MLE   Df Model:                           12\n",
      "Date:                Mon, 14 Apr 2025   Pseudo R-squ.:                  0.5164\n",
      "Time:                        12:57:42   Log-Likelihood:                -75.547\n",
      "converged:                       True   LL-Null:                       -156.22\n",
      "Covariance Type:            nonrobust   LLR p-value:                 2.801e-28\n",
      "==============================================================================\n",
      "                 coef    std err          z      P>|z|      [0.025      0.975]\n",
      "------------------------------------------------------------------------------\n",
      "age            0.0169      0.023      0.749      0.454      -0.027       0.061\n",
      "sex           -1.8748      0.547     -3.427      0.001      -2.947      -0.803\n",
      "cp             0.8795      0.229      3.838      0.000       0.430       1.329\n",
      "trestbps      -0.0085      0.012     -0.680      0.497      -0.033       0.016\n",
      "chol          -0.0025      0.005     -0.494      0.621      -0.012       0.007\n",
      "fbs           -0.3006      0.614     -0.490      0.624      -1.503       0.902\n",
      "restecg        0.7456      0.422      1.769      0.077      -0.081       1.572\n",
      "thalach        0.0271      0.010      2.673      0.008       0.007       0.047\n",
      "exang         -0.9751      0.485     -2.010      0.044      -1.926      -0.024\n",
      "oldpeak       -0.6592      0.262     -2.516      0.012      -1.173      -0.146\n",
      "slope          0.6245      0.419      1.492      0.136      -0.196       1.445\n",
      "ca            -0.9794      0.249     -3.936      0.000      -1.467      -0.492\n",
      "thal          -1.0067      0.343     -2.935      0.003      -1.679      -0.334\n",
      "==============================================================================\n"
     ]
    }
   ],
   "source": [
    "log_reg = sm.Logit(y_train, X_train).fit()\n",
    "print(log_reg.summary())"
   ]
  },
  {
   "cell_type": "code",
   "execution_count": 184,
   "id": "ce4b2603-c15d-4e18-af83-2b7343dad996",
   "metadata": {},
   "outputs": [],
   "source": [
    "# training model on significant features that have a p-value < .05\n",
    "sig_ft = ['sex', 'cp', 'thalach', 'exang', 'oldpeak', 'ca', 'thal','restecg','trestbps']  \n",
    "\n",
    "X = heart[sig_ft]\n",
    "y = heart['target']\n",
    "scaler = StandardScaler()\n",
    "X_scaled = scaler.fit_transform(X)\n",
    "X_train, X_test, y_train, y_test = train_test_split(X,\n",
    "                                                    y,\n",
    "                                                    random_state=314,\n",
    "                                                    test_size=0.25, \n",
    "                                                    shuffle=True) \n"
   ]
  },
  {
   "cell_type": "code",
   "execution_count": 185,
   "id": "e43c7d17-7d91-4082-85fc-fc6811a175d5",
   "metadata": {},
   "outputs": [],
   "source": [
    "model = LogisticRegression(max_iter=750)\n",
    "model.fit(X_train, y_train)\n",
    "y_pred = model.predict(X_test)"
   ]
  },
  {
   "cell_type": "code",
   "execution_count": 186,
   "id": "3181d440-c427-467b-b74d-11977fb4a12c",
   "metadata": {},
   "outputs": [
    {
     "name": "stdout",
     "output_type": "stream",
     "text": [
      "Accuracy: 0.868421052631579\n",
      "Classification Report:\n",
      "               precision    recall  f1-score   support\n",
      "\n",
      "           0       0.89      0.78      0.83        32\n",
      "           1       0.85      0.93      0.89        44\n",
      "\n",
      "    accuracy                           0.87        76\n",
      "   macro avg       0.87      0.86      0.86        76\n",
      "weighted avg       0.87      0.87      0.87        76\n",
      "\n",
      "Confusion Matrix:\n",
      " [[25  7]\n",
      " [ 3 41]]\n"
     ]
    }
   ],
   "source": [
    "accuracy = accuracy_score(y_test, y_pred)\n",
    "print(f\"Accuracy: {accuracy}\")\n",
    "print(\"Classification Report:\\n\", classification_report(y_test, y_pred))\n",
    "print(\"Confusion Matrix:\\n\", confusion_matrix(y_test, y_pred))"
   ]
  },
  {
   "cell_type": "code",
   "execution_count": 187,
   "id": "30ca8564-d86e-49cd-a43a-9348e17bb26a",
   "metadata": {},
   "outputs": [
    {
     "name": "stdout",
     "output_type": "stream",
     "text": [
      "Optimization terminated successfully.\n",
      "         Current function value: 0.357021\n",
      "         Iterations 8\n",
      "                           Logit Regression Results                           \n",
      "==============================================================================\n",
      "Dep. Variable:                 target   No. Observations:                  302\n",
      "Model:                          Logit   Df Residuals:                      290\n",
      "Method:                           MLE   Df Model:                           11\n",
      "Date:                Mon, 14 Apr 2025   Pseudo R-squ.:                  0.4822\n",
      "Time:                        12:57:42   Log-Likelihood:                -107.82\n",
      "converged:                       True   LL-Null:                       -208.21\n",
      "Covariance Type:            nonrobust   LLR p-value:                 5.126e-37\n",
      "==============================================================================\n",
      "                 coef    std err          z      P>|z|      [0.025      0.975]\n",
      "------------------------------------------------------------------------------\n",
      "const          0.9884      6.258      0.158      0.875     -11.278      13.255\n",
      "sex           -0.9976      0.524     -1.904      0.057      -2.024       0.029\n",
      "cp             1.3548      0.492      2.752      0.006       0.390       2.320\n",
      "thalach        0.0246      0.084      0.293      0.769      -0.140       0.189\n",
      "exang         -0.9441      0.402     -2.348      0.019      -1.732      -0.156\n",
      "oldpeak       -0.7598      0.489     -1.554      0.120      -1.718       0.199\n",
      "ca            -2.2900      0.799     -2.868      0.004      -3.855      -0.725\n",
      "thal          -1.3101      0.357     -3.670      0.000      -2.010      -0.611\n",
      "thalach_sq -2.124e-06      0.000     -0.007      0.994      -0.001       0.001\n",
      "oldpeak_sq     0.0022      0.150      0.015      0.988      -0.291       0.296\n",
      "cp_sex        -0.6152      0.529     -1.164      0.245      -1.651       0.421\n",
      "ca_thal        0.6584      0.321      2.053      0.040       0.030       1.287\n",
      "==============================================================================\n"
     ]
    }
   ],
   "source": [
    "X = heart[['sex', 'cp', 'thalach', 'exang', 'oldpeak', 'ca', 'thal']].copy()\n",
    "\n",
    "X['thalach_sq'] = X['thalach'] ** 2\n",
    "X['oldpeak_sq'] = X['oldpeak'] ** 2\n",
    "\n",
    "X['cp_sex'] = X['cp'] * X['sex']\n",
    "X['ca_thal'] = X['ca'] * X['thal']\n",
    "\n",
    "X = sm.add_constant(X)\n",
    "y = heart['target']\n",
    "\n",
    "log_reg = sm.Logit(y, X).fit()\n",
    "print(log_reg.summary())"
   ]
  },
  {
   "cell_type": "code",
   "execution_count": 188,
   "id": "676eaded-7009-4779-abf3-a798b162e3cf",
   "metadata": {},
   "outputs": [
    {
     "name": "stdout",
     "output_type": "stream",
     "text": [
      "Optimization terminated successfully.\n",
      "         Current function value: 0.343979\n",
      "         Iterations 8\n",
      "                           Logit Regression Results                           \n",
      "==============================================================================\n",
      "Dep. Variable:                 target   No. Observations:                  302\n",
      "Model:                          Logit   Df Residuals:                      285\n",
      "Method:                           MLE   Df Model:                           16\n",
      "Date:                Mon, 14 Apr 2025   Pseudo R-squ.:                  0.5011\n",
      "Time:                        12:57:42   Log-Likelihood:                -103.88\n",
      "converged:                       True   LL-Null:                       -208.21\n",
      "Covariance Type:            nonrobust   LLR p-value:                 1.403e-35\n",
      "==============================================================================\n",
      "                 coef    std err          z      P>|z|      [0.025      0.975]\n",
      "------------------------------------------------------------------------------\n",
      "const          6.8016      6.703      1.015      0.310      -6.335      19.939\n",
      "sex           -5.9031      2.602     -2.269      0.023     -11.002      -0.804\n",
      "cp             1.6938      0.967      1.751      0.080      -0.202       3.590\n",
      "thalach        0.0099      0.081      0.122      0.903      -0.150       0.169\n",
      "exang         -0.7942      0.423     -1.876      0.061      -1.624       0.035\n",
      "oldpeak       -0.6920      0.520     -1.330      0.184      -1.712       0.328\n",
      "ca            -2.7867      0.914     -3.050      0.002      -4.577      -0.996\n",
      "thal          -3.4859      1.233     -2.828      0.005      -5.902      -1.070\n",
      "thalach_sq  3.908e-05      0.000      0.140      0.889      -0.001       0.001\n",
      "oldpeak_sq    -0.0037      0.162     -0.023      0.982      -0.322       0.314\n",
      "cp_sq         -0.2212      0.217     -1.018      0.309      -0.647       0.205\n",
      "sex_cp        -0.7811      0.628     -1.244      0.213      -2.012       0.449\n",
      "sex_ca        -0.1518      0.647     -0.235      0.815      -1.420       1.117\n",
      "sex_thal       2.3391      1.222      1.914      0.056      -0.056       4.734\n",
      "cp_ca          0.3058      0.215      1.422      0.155      -0.116       0.727\n",
      "cp_thal        0.0877      0.273      0.322      0.748      -0.447       0.622\n",
      "ca_thal        0.7608      0.357      2.133      0.033       0.062       1.460\n",
      "==============================================================================\n"
     ]
    }
   ],
   "source": [
    "base_features = ['sex', 'cp', 'thalach', 'exang', 'oldpeak', 'ca', 'thal']\n",
    "X = heart[base_features].copy()\n",
    "\n",
    "squared_vars = ['thalach', 'oldpeak','cp']\n",
    "for var in squared_vars:\n",
    "    X[f'{var}_sq'] = X[var] ** 2\n",
    "interaction_vars = ['sex', 'cp', 'ca', 'thal']\n",
    "interactions = list(itertools.combinations(interaction_vars, 2))\n",
    "\n",
    "for var1, var2 in interactions:\n",
    "    X[f'{var1}_{var2}'] = X[var1] * X[var2]\n",
    "X = sm.add_constant(X)\n",
    "y = heart['target']\n",
    "log_reg = sm.Logit(y, X).fit()\n",
    "\n",
    "print(log_reg.summary())"
   ]
  },
  {
   "cell_type": "code",
   "execution_count": 189,
   "id": "aa3a89f5-61d3-4414-a298-35abe823498c",
   "metadata": {},
   "outputs": [
    {
     "name": "stdout",
     "output_type": "stream",
     "text": [
      "Optimization terminated successfully.\n",
      "         Current function value: 0.496065\n",
      "         Iterations 6\n",
      "                           Logit Regression Results                           \n",
      "==============================================================================\n",
      "Dep. Variable:                 target   No. Observations:                  302\n",
      "Model:                          Logit   Df Residuals:                      296\n",
      "Method:                           MLE   Df Model:                            5\n",
      "Date:                Mon, 14 Apr 2025   Pseudo R-squ.:                  0.2805\n",
      "Time:                        12:57:42   Log-Likelihood:                -149.81\n",
      "converged:                       True   LL-Null:                       -208.21\n",
      "Covariance Type:            nonrobust   LLR p-value:                 1.496e-23\n",
      "==============================================================================\n",
      "                 coef    std err          z      P>|z|      [0.025      0.975]\n",
      "------------------------------------------------------------------------------\n",
      "ca            -0.7706      0.561     -1.373      0.170      -1.870       0.329\n",
      "thal           0.9622      0.141      6.813      0.000       0.685       1.239\n",
      "ca_thal       -0.0814      0.232     -0.351      0.726      -0.537       0.374\n",
      "sex            2.5554      0.748      3.418      0.001       1.090       4.021\n",
      "exang         -1.9517      0.320     -6.097      0.000      -2.579      -1.324\n",
      "sex_thal      -1.5794      0.329     -4.804      0.000      -2.224      -0.935\n",
      "==============================================================================\n"
     ]
    }
   ],
   "source": [
    "selected_features = ['ca', 'thal', 'ca_thal', 'sex', 'exang', 'sex_thal']  \n",
    "X = sm.add_constant(X)\n",
    "X = X[selected_features]\n",
    "y = heart['target']\n",
    "\n",
    "log_reg = sm.Logit(y, X).fit()\n",
    "\n",
    "print(log_reg.summary())"
   ]
  },
  {
   "cell_type": "markdown",
   "id": "b6d14b52-7434-4c78-a393-2f043518456f",
   "metadata": {},
   "source": [
    "# Tabulation Charts"
   ]
  },
  {
   "cell_type": "code",
   "execution_count": 276,
   "id": "9a92e9e6-b59b-412d-89fc-629ff766e8cf",
   "metadata": {},
   "outputs": [],
   "source": [
    "# def features & target\n",
    "feature_cols = ['cp','sex','fbs','thal','slope','restecg','exang']\n",
    "target_col = 'target'\n"
   ]
  },
  {
   "cell_type": "code",
   "execution_count": 278,
   "id": "f7de1cd2-0c56-4657-9831-d1ec5e1030eb",
   "metadata": {},
   "outputs": [],
   "source": [
    "# test/train split 80/20\n",
    "train_df, test_df = train_test_split(heart,\n",
    "                                     test_size=.2,\n",
    "                                     random_state=314,\n",
    "                                     stratify=heart[target_col])"
   ]
  },
  {
   "cell_type": "code",
   "execution_count": 280,
   "id": "b791ebe5-e3a0-41d8-8a66-8468b98c3896",
   "metadata": {},
   "outputs": [
    {
     "data": {
      "text/html": [
       "<style>#sk-container-id-6 {color: black;background-color: white;}#sk-container-id-6 pre{padding: 0;}#sk-container-id-6 div.sk-toggleable {background-color: white;}#sk-container-id-6 label.sk-toggleable__label {cursor: pointer;display: block;width: 100%;margin-bottom: 0;padding: 0.3em;box-sizing: border-box;text-align: center;}#sk-container-id-6 label.sk-toggleable__label-arrow:before {content: \"▸\";float: left;margin-right: 0.25em;color: #696969;}#sk-container-id-6 label.sk-toggleable__label-arrow:hover:before {color: black;}#sk-container-id-6 div.sk-estimator:hover label.sk-toggleable__label-arrow:before {color: black;}#sk-container-id-6 div.sk-toggleable__content {max-height: 0;max-width: 0;overflow: hidden;text-align: left;background-color: #f0f8ff;}#sk-container-id-6 div.sk-toggleable__content pre {margin: 0.2em;color: black;border-radius: 0.25em;background-color: #f0f8ff;}#sk-container-id-6 input.sk-toggleable__control:checked~div.sk-toggleable__content {max-height: 200px;max-width: 100%;overflow: auto;}#sk-container-id-6 input.sk-toggleable__control:checked~label.sk-toggleable__label-arrow:before {content: \"▾\";}#sk-container-id-6 div.sk-estimator input.sk-toggleable__control:checked~label.sk-toggleable__label {background-color: #d4ebff;}#sk-container-id-6 div.sk-label input.sk-toggleable__control:checked~label.sk-toggleable__label {background-color: #d4ebff;}#sk-container-id-6 input.sk-hidden--visually {border: 0;clip: rect(1px 1px 1px 1px);clip: rect(1px, 1px, 1px, 1px);height: 1px;margin: -1px;overflow: hidden;padding: 0;position: absolute;width: 1px;}#sk-container-id-6 div.sk-estimator {font-family: monospace;background-color: #f0f8ff;border: 1px dotted black;border-radius: 0.25em;box-sizing: border-box;margin-bottom: 0.5em;}#sk-container-id-6 div.sk-estimator:hover {background-color: #d4ebff;}#sk-container-id-6 div.sk-parallel-item::after {content: \"\";width: 100%;border-bottom: 1px solid gray;flex-grow: 1;}#sk-container-id-6 div.sk-label:hover label.sk-toggleable__label {background-color: #d4ebff;}#sk-container-id-6 div.sk-serial::before {content: \"\";position: absolute;border-left: 1px solid gray;box-sizing: border-box;top: 0;bottom: 0;left: 50%;z-index: 0;}#sk-container-id-6 div.sk-serial {display: flex;flex-direction: column;align-items: center;background-color: white;padding-right: 0.2em;padding-left: 0.2em;position: relative;}#sk-container-id-6 div.sk-item {position: relative;z-index: 1;}#sk-container-id-6 div.sk-parallel {display: flex;align-items: stretch;justify-content: center;background-color: white;position: relative;}#sk-container-id-6 div.sk-item::before, #sk-container-id-6 div.sk-parallel-item::before {content: \"\";position: absolute;border-left: 1px solid gray;box-sizing: border-box;top: 0;bottom: 0;left: 50%;z-index: -1;}#sk-container-id-6 div.sk-parallel-item {display: flex;flex-direction: column;z-index: 1;position: relative;background-color: white;}#sk-container-id-6 div.sk-parallel-item:first-child::after {align-self: flex-end;width: 50%;}#sk-container-id-6 div.sk-parallel-item:last-child::after {align-self: flex-start;width: 50%;}#sk-container-id-6 div.sk-parallel-item:only-child::after {width: 0;}#sk-container-id-6 div.sk-dashed-wrapped {border: 1px dashed gray;margin: 0 0.4em 0.5em 0.4em;box-sizing: border-box;padding-bottom: 0.4em;background-color: white;}#sk-container-id-6 div.sk-label label {font-family: monospace;font-weight: bold;display: inline-block;line-height: 1.2em;}#sk-container-id-6 div.sk-label-container {text-align: center;}#sk-container-id-6 div.sk-container {/* jupyter's `normalize.less` sets `[hidden] { display: none; }` but bootstrap.min.css set `[hidden] { display: none !important; }` so we also need the `!important` here to be able to override the default hidden behavior on the sphinx rendered scikit-learn.org. See: https://github.com/scikit-learn/scikit-learn/issues/21755 */display: inline-block !important;position: relative;}#sk-container-id-6 div.sk-text-repr-fallback {display: none;}</style><div id=\"sk-container-id-6\" class=\"sk-top-container\"><div class=\"sk-text-repr-fallback\"><pre>LogisticRegression(max_iter=1000)</pre><b>In a Jupyter environment, please rerun this cell to show the HTML representation or trust the notebook. <br />On GitHub, the HTML representation is unable to render, please try loading this page with nbviewer.org.</b></div><div class=\"sk-container\" hidden><div class=\"sk-item\"><div class=\"sk-estimator sk-toggleable\"><input class=\"sk-toggleable__control sk-hidden--visually\" id=\"sk-estimator-id-6\" type=\"checkbox\" checked><label for=\"sk-estimator-id-6\" class=\"sk-toggleable__label sk-toggleable__label-arrow\">LogisticRegression</label><div class=\"sk-toggleable__content\"><pre>LogisticRegression(max_iter=1000)</pre></div></div></div></div></div>"
      ],
      "text/plain": [
       "LogisticRegression(max_iter=1000)"
      ]
     },
     "execution_count": 280,
     "metadata": {},
     "output_type": "execute_result"
    }
   ],
   "source": [
    "#train log reg model\n",
    "model = LogisticRegression(max_iter=1000)\n",
    "model.fit(train_df[feature_cols], train_df[target_col])"
   ]
  },
  {
   "cell_type": "code",
   "execution_count": 282,
   "id": "1622d969-2eb2-4b17-ad99-5df54d144a1e",
   "metadata": {},
   "outputs": [],
   "source": [
    "# add prediction to both sets\n",
    "train_df['actual'] = train_df[target_col]\n",
    "train_df['predicted'] = model.predict(train_df[feature_cols])\n",
    "\n",
    "test_df['actual'] = test_df[target_col]\n",
    "test_df['predicted'] = model.predict(test_df[feature_cols])"
   ]
  },
  {
   "cell_type": "code",
   "execution_count": 284,
   "id": "181a8d6d-da7b-4d7e-9cd8-45ea718a8e4c",
   "metadata": {},
   "outputs": [],
   "source": [
    "# tab chart function\n",
    "def tabulate_category(df_train, df_test, cat_col):\n",
    "    def compute_stats(df, label):\n",
    "        summary = df.groupby(cat_col).agg(\n",
    "            **{\n",
    "                f'{label}_records': (cat_col, 'count'),\n",
    "                f'{label}_actual': ('actual', 'sum'),\n",
    "                f'{label}_predicted': ('predicted', 'sum')\n",
    "            }\n",
    "        ).reset_index()\n",
    "        summary[f'{label}_error'] = abs(summary[f'{label}_actual'] - summary[f'{label}_predicted']) / summary[f'{label}_actual'].replace(0, 1)\n",
    "        return summary\n",
    "    train_summary = compute_stats(df_train, 'train')\n",
    "    test_summary = compute_stats(df_test, 'test')\n",
    "\n",
    "    merged = pd.merge(train_summary, test_summary, on=cat_col, how='outer')\n",
    "    merged = merged.fillna(0)\n",
    "\n",
    "    total = merged[[col for col in merged.columns if col != cat_col]].sum().to_dict()\n",
    "    total[cat_col] = 'Total'\n",
    "    merged = pd.concat([merged, pd.DataFrame([total])], ignore_index=True)\n",
    "\n",
    "    return merged"
   ]
  },
  {
   "cell_type": "code",
   "execution_count": 292,
   "id": "a5cf76f6-3f0f-41cc-aa73-22e12a3d7b92",
   "metadata": {},
   "outputs": [
    {
     "data": {
      "text/markdown": [
       "### Tab Chart for: `cp`"
      ],
      "text/plain": [
       "<IPython.core.display.Markdown object>"
      ]
     },
     "metadata": {},
     "output_type": "display_data"
    },
    {
     "data": {
      "text/html": [
       "<div>\n",
       "<style scoped>\n",
       "    .dataframe tbody tr th:only-of-type {\n",
       "        vertical-align: middle;\n",
       "    }\n",
       "\n",
       "    .dataframe tbody tr th {\n",
       "        vertical-align: top;\n",
       "    }\n",
       "\n",
       "    .dataframe thead th {\n",
       "        text-align: right;\n",
       "    }\n",
       "</style>\n",
       "<table border=\"1\" class=\"dataframe\">\n",
       "  <thead>\n",
       "    <tr style=\"text-align: right;\">\n",
       "      <th></th>\n",
       "      <th>cp</th>\n",
       "      <th>train_records</th>\n",
       "      <th>train_actual</th>\n",
       "      <th>train_predicted</th>\n",
       "      <th>train_error</th>\n",
       "      <th>test_records</th>\n",
       "      <th>test_actual</th>\n",
       "      <th>test_predicted</th>\n",
       "      <th>test_error</th>\n",
       "    </tr>\n",
       "  </thead>\n",
       "  <tbody>\n",
       "    <tr>\n",
       "      <th>0</th>\n",
       "      <td>0</td>\n",
       "      <td>401.0</td>\n",
       "      <td>99.0</td>\n",
       "      <td>78.0</td>\n",
       "      <td>0.212121</td>\n",
       "      <td>96.0</td>\n",
       "      <td>23.0</td>\n",
       "      <td>22.0</td>\n",
       "      <td>0.043478</td>\n",
       "    </tr>\n",
       "    <tr>\n",
       "      <th>1</th>\n",
       "      <td>1</td>\n",
       "      <td>132.0</td>\n",
       "      <td>104.0</td>\n",
       "      <td>112.0</td>\n",
       "      <td>0.076923</td>\n",
       "      <td>35.0</td>\n",
       "      <td>30.0</td>\n",
       "      <td>29.0</td>\n",
       "      <td>0.033333</td>\n",
       "    </tr>\n",
       "    <tr>\n",
       "      <th>2</th>\n",
       "      <td>2</td>\n",
       "      <td>229.0</td>\n",
       "      <td>178.0</td>\n",
       "      <td>190.0</td>\n",
       "      <td>0.067416</td>\n",
       "      <td>55.0</td>\n",
       "      <td>41.0</td>\n",
       "      <td>45.0</td>\n",
       "      <td>0.097561</td>\n",
       "    </tr>\n",
       "    <tr>\n",
       "      <th>3</th>\n",
       "      <td>3</td>\n",
       "      <td>58.0</td>\n",
       "      <td>40.0</td>\n",
       "      <td>55.0</td>\n",
       "      <td>0.375000</td>\n",
       "      <td>19.0</td>\n",
       "      <td>11.0</td>\n",
       "      <td>19.0</td>\n",
       "      <td>0.727273</td>\n",
       "    </tr>\n",
       "    <tr>\n",
       "      <th>4</th>\n",
       "      <td>Total</td>\n",
       "      <td>820.0</td>\n",
       "      <td>421.0</td>\n",
       "      <td>435.0</td>\n",
       "      <td>0.731460</td>\n",
       "      <td>205.0</td>\n",
       "      <td>105.0</td>\n",
       "      <td>115.0</td>\n",
       "      <td>0.901645</td>\n",
       "    </tr>\n",
       "  </tbody>\n",
       "</table>\n",
       "</div>"
      ],
      "text/plain": [
       "      cp  train_records  train_actual  train_predicted  train_error  \\\n",
       "0      0          401.0          99.0             78.0     0.212121   \n",
       "1      1          132.0         104.0            112.0     0.076923   \n",
       "2      2          229.0         178.0            190.0     0.067416   \n",
       "3      3           58.0          40.0             55.0     0.375000   \n",
       "4  Total          820.0         421.0            435.0     0.731460   \n",
       "\n",
       "   test_records  test_actual  test_predicted  test_error  \n",
       "0          96.0         23.0            22.0    0.043478  \n",
       "1          35.0         30.0            29.0    0.033333  \n",
       "2          55.0         41.0            45.0    0.097561  \n",
       "3          19.0         11.0            19.0    0.727273  \n",
       "4         205.0        105.0           115.0    0.901645  "
      ]
     },
     "metadata": {},
     "output_type": "display_data"
    },
    {
     "data": {
      "text/markdown": [
       "### Tab Chart for: `sex`"
      ],
      "text/plain": [
       "<IPython.core.display.Markdown object>"
      ]
     },
     "metadata": {},
     "output_type": "display_data"
    },
    {
     "data": {
      "text/html": [
       "<div>\n",
       "<style scoped>\n",
       "    .dataframe tbody tr th:only-of-type {\n",
       "        vertical-align: middle;\n",
       "    }\n",
       "\n",
       "    .dataframe tbody tr th {\n",
       "        vertical-align: top;\n",
       "    }\n",
       "\n",
       "    .dataframe thead th {\n",
       "        text-align: right;\n",
       "    }\n",
       "</style>\n",
       "<table border=\"1\" class=\"dataframe\">\n",
       "  <thead>\n",
       "    <tr style=\"text-align: right;\">\n",
       "      <th></th>\n",
       "      <th>sex</th>\n",
       "      <th>train_records</th>\n",
       "      <th>train_actual</th>\n",
       "      <th>train_predicted</th>\n",
       "      <th>train_error</th>\n",
       "      <th>test_records</th>\n",
       "      <th>test_actual</th>\n",
       "      <th>test_predicted</th>\n",
       "      <th>test_error</th>\n",
       "    </tr>\n",
       "  </thead>\n",
       "  <tbody>\n",
       "    <tr>\n",
       "      <th>0</th>\n",
       "      <td>0</td>\n",
       "      <td>245.0</td>\n",
       "      <td>176.0</td>\n",
       "      <td>182.0</td>\n",
       "      <td>0.034091</td>\n",
       "      <td>67.0</td>\n",
       "      <td>50.0</td>\n",
       "      <td>53.0</td>\n",
       "      <td>0.060000</td>\n",
       "    </tr>\n",
       "    <tr>\n",
       "      <th>1</th>\n",
       "      <td>1</td>\n",
       "      <td>575.0</td>\n",
       "      <td>245.0</td>\n",
       "      <td>253.0</td>\n",
       "      <td>0.032653</td>\n",
       "      <td>138.0</td>\n",
       "      <td>55.0</td>\n",
       "      <td>62.0</td>\n",
       "      <td>0.127273</td>\n",
       "    </tr>\n",
       "    <tr>\n",
       "      <th>2</th>\n",
       "      <td>Total</td>\n",
       "      <td>820.0</td>\n",
       "      <td>421.0</td>\n",
       "      <td>435.0</td>\n",
       "      <td>0.066744</td>\n",
       "      <td>205.0</td>\n",
       "      <td>105.0</td>\n",
       "      <td>115.0</td>\n",
       "      <td>0.187273</td>\n",
       "    </tr>\n",
       "  </tbody>\n",
       "</table>\n",
       "</div>"
      ],
      "text/plain": [
       "     sex  train_records  train_actual  train_predicted  train_error  \\\n",
       "0      0          245.0         176.0            182.0     0.034091   \n",
       "1      1          575.0         245.0            253.0     0.032653   \n",
       "2  Total          820.0         421.0            435.0     0.066744   \n",
       "\n",
       "   test_records  test_actual  test_predicted  test_error  \n",
       "0          67.0         50.0            53.0    0.060000  \n",
       "1         138.0         55.0            62.0    0.127273  \n",
       "2         205.0        105.0           115.0    0.187273  "
      ]
     },
     "metadata": {},
     "output_type": "display_data"
    },
    {
     "data": {
      "text/markdown": [
       "### Tab Chart for: `fbs`"
      ],
      "text/plain": [
       "<IPython.core.display.Markdown object>"
      ]
     },
     "metadata": {},
     "output_type": "display_data"
    },
    {
     "data": {
      "text/html": [
       "<div>\n",
       "<style scoped>\n",
       "    .dataframe tbody tr th:only-of-type {\n",
       "        vertical-align: middle;\n",
       "    }\n",
       "\n",
       "    .dataframe tbody tr th {\n",
       "        vertical-align: top;\n",
       "    }\n",
       "\n",
       "    .dataframe thead th {\n",
       "        text-align: right;\n",
       "    }\n",
       "</style>\n",
       "<table border=\"1\" class=\"dataframe\">\n",
       "  <thead>\n",
       "    <tr style=\"text-align: right;\">\n",
       "      <th></th>\n",
       "      <th>fbs</th>\n",
       "      <th>train_records</th>\n",
       "      <th>train_actual</th>\n",
       "      <th>train_predicted</th>\n",
       "      <th>train_error</th>\n",
       "      <th>test_records</th>\n",
       "      <th>test_actual</th>\n",
       "      <th>test_predicted</th>\n",
       "      <th>test_error</th>\n",
       "    </tr>\n",
       "  </thead>\n",
       "  <tbody>\n",
       "    <tr>\n",
       "      <th>0</th>\n",
       "      <td>0</td>\n",
       "      <td>699.0</td>\n",
       "      <td>364.0</td>\n",
       "      <td>375.0</td>\n",
       "      <td>0.030220</td>\n",
       "      <td>173.0</td>\n",
       "      <td>91.0</td>\n",
       "      <td>97.0</td>\n",
       "      <td>0.065934</td>\n",
       "    </tr>\n",
       "    <tr>\n",
       "      <th>1</th>\n",
       "      <td>1</td>\n",
       "      <td>121.0</td>\n",
       "      <td>57.0</td>\n",
       "      <td>60.0</td>\n",
       "      <td>0.052632</td>\n",
       "      <td>32.0</td>\n",
       "      <td>14.0</td>\n",
       "      <td>18.0</td>\n",
       "      <td>0.285714</td>\n",
       "    </tr>\n",
       "    <tr>\n",
       "      <th>2</th>\n",
       "      <td>Total</td>\n",
       "      <td>820.0</td>\n",
       "      <td>421.0</td>\n",
       "      <td>435.0</td>\n",
       "      <td>0.082851</td>\n",
       "      <td>205.0</td>\n",
       "      <td>105.0</td>\n",
       "      <td>115.0</td>\n",
       "      <td>0.351648</td>\n",
       "    </tr>\n",
       "  </tbody>\n",
       "</table>\n",
       "</div>"
      ],
      "text/plain": [
       "     fbs  train_records  train_actual  train_predicted  train_error  \\\n",
       "0      0          699.0         364.0            375.0     0.030220   \n",
       "1      1          121.0          57.0             60.0     0.052632   \n",
       "2  Total          820.0         421.0            435.0     0.082851   \n",
       "\n",
       "   test_records  test_actual  test_predicted  test_error  \n",
       "0         173.0         91.0            97.0    0.065934  \n",
       "1          32.0         14.0            18.0    0.285714  \n",
       "2         205.0        105.0           115.0    0.351648  "
      ]
     },
     "metadata": {},
     "output_type": "display_data"
    },
    {
     "data": {
      "text/markdown": [
       "### Tab Chart for: `thal`"
      ],
      "text/plain": [
       "<IPython.core.display.Markdown object>"
      ]
     },
     "metadata": {},
     "output_type": "display_data"
    },
    {
     "data": {
      "text/html": [
       "<div>\n",
       "<style scoped>\n",
       "    .dataframe tbody tr th:only-of-type {\n",
       "        vertical-align: middle;\n",
       "    }\n",
       "\n",
       "    .dataframe tbody tr th {\n",
       "        vertical-align: top;\n",
       "    }\n",
       "\n",
       "    .dataframe thead th {\n",
       "        text-align: right;\n",
       "    }\n",
       "</style>\n",
       "<table border=\"1\" class=\"dataframe\">\n",
       "  <thead>\n",
       "    <tr style=\"text-align: right;\">\n",
       "      <th></th>\n",
       "      <th>thal</th>\n",
       "      <th>train_records</th>\n",
       "      <th>train_actual</th>\n",
       "      <th>train_predicted</th>\n",
       "      <th>train_error</th>\n",
       "      <th>test_records</th>\n",
       "      <th>test_actual</th>\n",
       "      <th>test_predicted</th>\n",
       "      <th>test_error</th>\n",
       "    </tr>\n",
       "  </thead>\n",
       "  <tbody>\n",
       "    <tr>\n",
       "      <th>0</th>\n",
       "      <td>0</td>\n",
       "      <td>6.0</td>\n",
       "      <td>2.0</td>\n",
       "      <td>2.0</td>\n",
       "      <td>0.00000</td>\n",
       "      <td>1.0</td>\n",
       "      <td>1.0</td>\n",
       "      <td>1.0</td>\n",
       "      <td>0.000000</td>\n",
       "    </tr>\n",
       "    <tr>\n",
       "      <th>1</th>\n",
       "      <td>1</td>\n",
       "      <td>53.0</td>\n",
       "      <td>16.0</td>\n",
       "      <td>23.0</td>\n",
       "      <td>0.43750</td>\n",
       "      <td>11.0</td>\n",
       "      <td>5.0</td>\n",
       "      <td>6.0</td>\n",
       "      <td>0.200000</td>\n",
       "    </tr>\n",
       "    <tr>\n",
       "      <th>2</th>\n",
       "      <td>2</td>\n",
       "      <td>430.0</td>\n",
       "      <td>323.0</td>\n",
       "      <td>338.0</td>\n",
       "      <td>0.04644</td>\n",
       "      <td>114.0</td>\n",
       "      <td>89.0</td>\n",
       "      <td>95.0</td>\n",
       "      <td>0.067416</td>\n",
       "    </tr>\n",
       "    <tr>\n",
       "      <th>3</th>\n",
       "      <td>3</td>\n",
       "      <td>331.0</td>\n",
       "      <td>80.0</td>\n",
       "      <td>72.0</td>\n",
       "      <td>0.10000</td>\n",
       "      <td>79.0</td>\n",
       "      <td>10.0</td>\n",
       "      <td>13.0</td>\n",
       "      <td>0.300000</td>\n",
       "    </tr>\n",
       "    <tr>\n",
       "      <th>4</th>\n",
       "      <td>Total</td>\n",
       "      <td>820.0</td>\n",
       "      <td>421.0</td>\n",
       "      <td>435.0</td>\n",
       "      <td>0.58394</td>\n",
       "      <td>205.0</td>\n",
       "      <td>105.0</td>\n",
       "      <td>115.0</td>\n",
       "      <td>0.567416</td>\n",
       "    </tr>\n",
       "  </tbody>\n",
       "</table>\n",
       "</div>"
      ],
      "text/plain": [
       "    thal  train_records  train_actual  train_predicted  train_error  \\\n",
       "0      0            6.0           2.0              2.0      0.00000   \n",
       "1      1           53.0          16.0             23.0      0.43750   \n",
       "2      2          430.0         323.0            338.0      0.04644   \n",
       "3      3          331.0          80.0             72.0      0.10000   \n",
       "4  Total          820.0         421.0            435.0      0.58394   \n",
       "\n",
       "   test_records  test_actual  test_predicted  test_error  \n",
       "0           1.0          1.0             1.0    0.000000  \n",
       "1          11.0          5.0             6.0    0.200000  \n",
       "2         114.0         89.0            95.0    0.067416  \n",
       "3          79.0         10.0            13.0    0.300000  \n",
       "4         205.0        105.0           115.0    0.567416  "
      ]
     },
     "metadata": {},
     "output_type": "display_data"
    },
    {
     "data": {
      "text/markdown": [
       "### Tab Chart for: `slope`"
      ],
      "text/plain": [
       "<IPython.core.display.Markdown object>"
      ]
     },
     "metadata": {},
     "output_type": "display_data"
    },
    {
     "data": {
      "text/html": [
       "<div>\n",
       "<style scoped>\n",
       "    .dataframe tbody tr th:only-of-type {\n",
       "        vertical-align: middle;\n",
       "    }\n",
       "\n",
       "    .dataframe tbody tr th {\n",
       "        vertical-align: top;\n",
       "    }\n",
       "\n",
       "    .dataframe thead th {\n",
       "        text-align: right;\n",
       "    }\n",
       "</style>\n",
       "<table border=\"1\" class=\"dataframe\">\n",
       "  <thead>\n",
       "    <tr style=\"text-align: right;\">\n",
       "      <th></th>\n",
       "      <th>slope</th>\n",
       "      <th>train_records</th>\n",
       "      <th>train_actual</th>\n",
       "      <th>train_predicted</th>\n",
       "      <th>train_error</th>\n",
       "      <th>test_records</th>\n",
       "      <th>test_actual</th>\n",
       "      <th>test_predicted</th>\n",
       "      <th>test_error</th>\n",
       "    </tr>\n",
       "  </thead>\n",
       "  <tbody>\n",
       "    <tr>\n",
       "      <th>0</th>\n",
       "      <td>0</td>\n",
       "      <td>65.0</td>\n",
       "      <td>23.0</td>\n",
       "      <td>4.0</td>\n",
       "      <td>0.826087</td>\n",
       "      <td>9.0</td>\n",
       "      <td>5.0</td>\n",
       "      <td>2.0</td>\n",
       "      <td>0.600000</td>\n",
       "    </tr>\n",
       "    <tr>\n",
       "      <th>1</th>\n",
       "      <td>1</td>\n",
       "      <td>385.0</td>\n",
       "      <td>127.0</td>\n",
       "      <td>135.0</td>\n",
       "      <td>0.062992</td>\n",
       "      <td>97.0</td>\n",
       "      <td>31.0</td>\n",
       "      <td>32.0</td>\n",
       "      <td>0.032258</td>\n",
       "    </tr>\n",
       "    <tr>\n",
       "      <th>2</th>\n",
       "      <td>2</td>\n",
       "      <td>370.0</td>\n",
       "      <td>271.0</td>\n",
       "      <td>296.0</td>\n",
       "      <td>0.092251</td>\n",
       "      <td>99.0</td>\n",
       "      <td>69.0</td>\n",
       "      <td>81.0</td>\n",
       "      <td>0.173913</td>\n",
       "    </tr>\n",
       "    <tr>\n",
       "      <th>3</th>\n",
       "      <td>Total</td>\n",
       "      <td>820.0</td>\n",
       "      <td>421.0</td>\n",
       "      <td>435.0</td>\n",
       "      <td>0.981330</td>\n",
       "      <td>205.0</td>\n",
       "      <td>105.0</td>\n",
       "      <td>115.0</td>\n",
       "      <td>0.806171</td>\n",
       "    </tr>\n",
       "  </tbody>\n",
       "</table>\n",
       "</div>"
      ],
      "text/plain": [
       "   slope  train_records  train_actual  train_predicted  train_error  \\\n",
       "0      0           65.0          23.0              4.0     0.826087   \n",
       "1      1          385.0         127.0            135.0     0.062992   \n",
       "2      2          370.0         271.0            296.0     0.092251   \n",
       "3  Total          820.0         421.0            435.0     0.981330   \n",
       "\n",
       "   test_records  test_actual  test_predicted  test_error  \n",
       "0           9.0          5.0             2.0    0.600000  \n",
       "1          97.0         31.0            32.0    0.032258  \n",
       "2          99.0         69.0            81.0    0.173913  \n",
       "3         205.0        105.0           115.0    0.806171  "
      ]
     },
     "metadata": {},
     "output_type": "display_data"
    },
    {
     "data": {
      "text/markdown": [
       "### Tab Chart for: `restecg`"
      ],
      "text/plain": [
       "<IPython.core.display.Markdown object>"
      ]
     },
     "metadata": {},
     "output_type": "display_data"
    },
    {
     "data": {
      "text/html": [
       "<div>\n",
       "<style scoped>\n",
       "    .dataframe tbody tr th:only-of-type {\n",
       "        vertical-align: middle;\n",
       "    }\n",
       "\n",
       "    .dataframe tbody tr th {\n",
       "        vertical-align: top;\n",
       "    }\n",
       "\n",
       "    .dataframe thead th {\n",
       "        text-align: right;\n",
       "    }\n",
       "</style>\n",
       "<table border=\"1\" class=\"dataframe\">\n",
       "  <thead>\n",
       "    <tr style=\"text-align: right;\">\n",
       "      <th></th>\n",
       "      <th>restecg</th>\n",
       "      <th>train_records</th>\n",
       "      <th>train_actual</th>\n",
       "      <th>train_predicted</th>\n",
       "      <th>train_error</th>\n",
       "      <th>test_records</th>\n",
       "      <th>test_actual</th>\n",
       "      <th>test_predicted</th>\n",
       "      <th>test_error</th>\n",
       "    </tr>\n",
       "  </thead>\n",
       "  <tbody>\n",
       "    <tr>\n",
       "      <th>0</th>\n",
       "      <td>0</td>\n",
       "      <td>399.0</td>\n",
       "      <td>176.0</td>\n",
       "      <td>183.0</td>\n",
       "      <td>0.039773</td>\n",
       "      <td>98.0</td>\n",
       "      <td>38.0</td>\n",
       "      <td>44.0</td>\n",
       "      <td>0.157895</td>\n",
       "    </tr>\n",
       "    <tr>\n",
       "      <th>1</th>\n",
       "      <td>1</td>\n",
       "      <td>409.0</td>\n",
       "      <td>242.0</td>\n",
       "      <td>249.0</td>\n",
       "      <td>0.028926</td>\n",
       "      <td>104.0</td>\n",
       "      <td>67.0</td>\n",
       "      <td>71.0</td>\n",
       "      <td>0.059701</td>\n",
       "    </tr>\n",
       "    <tr>\n",
       "      <th>2</th>\n",
       "      <td>2</td>\n",
       "      <td>12.0</td>\n",
       "      <td>3.0</td>\n",
       "      <td>3.0</td>\n",
       "      <td>0.000000</td>\n",
       "      <td>3.0</td>\n",
       "      <td>0.0</td>\n",
       "      <td>0.0</td>\n",
       "      <td>0.000000</td>\n",
       "    </tr>\n",
       "    <tr>\n",
       "      <th>3</th>\n",
       "      <td>Total</td>\n",
       "      <td>820.0</td>\n",
       "      <td>421.0</td>\n",
       "      <td>435.0</td>\n",
       "      <td>0.068698</td>\n",
       "      <td>205.0</td>\n",
       "      <td>105.0</td>\n",
       "      <td>115.0</td>\n",
       "      <td>0.217596</td>\n",
       "    </tr>\n",
       "  </tbody>\n",
       "</table>\n",
       "</div>"
      ],
      "text/plain": [
       "  restecg  train_records  train_actual  train_predicted  train_error  \\\n",
       "0       0          399.0         176.0            183.0     0.039773   \n",
       "1       1          409.0         242.0            249.0     0.028926   \n",
       "2       2           12.0           3.0              3.0     0.000000   \n",
       "3   Total          820.0         421.0            435.0     0.068698   \n",
       "\n",
       "   test_records  test_actual  test_predicted  test_error  \n",
       "0          98.0         38.0            44.0    0.157895  \n",
       "1         104.0         67.0            71.0    0.059701  \n",
       "2           3.0          0.0             0.0    0.000000  \n",
       "3         205.0        105.0           115.0    0.217596  "
      ]
     },
     "metadata": {},
     "output_type": "display_data"
    },
    {
     "data": {
      "text/markdown": [
       "### Tab Chart for: `exang`"
      ],
      "text/plain": [
       "<IPython.core.display.Markdown object>"
      ]
     },
     "metadata": {},
     "output_type": "display_data"
    },
    {
     "data": {
      "text/html": [
       "<div>\n",
       "<style scoped>\n",
       "    .dataframe tbody tr th:only-of-type {\n",
       "        vertical-align: middle;\n",
       "    }\n",
       "\n",
       "    .dataframe tbody tr th {\n",
       "        vertical-align: top;\n",
       "    }\n",
       "\n",
       "    .dataframe thead th {\n",
       "        text-align: right;\n",
       "    }\n",
       "</style>\n",
       "<table border=\"1\" class=\"dataframe\">\n",
       "  <thead>\n",
       "    <tr style=\"text-align: right;\">\n",
       "      <th></th>\n",
       "      <th>exang</th>\n",
       "      <th>train_records</th>\n",
       "      <th>train_actual</th>\n",
       "      <th>train_predicted</th>\n",
       "      <th>train_error</th>\n",
       "      <th>test_records</th>\n",
       "      <th>test_actual</th>\n",
       "      <th>test_predicted</th>\n",
       "      <th>test_error</th>\n",
       "    </tr>\n",
       "  </thead>\n",
       "  <tbody>\n",
       "    <tr>\n",
       "      <th>0</th>\n",
       "      <td>0</td>\n",
       "      <td>541.0</td>\n",
       "      <td>360.0</td>\n",
       "      <td>397.0</td>\n",
       "      <td>0.102778</td>\n",
       "      <td>139.0</td>\n",
       "      <td>95.0</td>\n",
       "      <td>107.0</td>\n",
       "      <td>0.126316</td>\n",
       "    </tr>\n",
       "    <tr>\n",
       "      <th>1</th>\n",
       "      <td>1</td>\n",
       "      <td>279.0</td>\n",
       "      <td>61.0</td>\n",
       "      <td>38.0</td>\n",
       "      <td>0.377049</td>\n",
       "      <td>66.0</td>\n",
       "      <td>10.0</td>\n",
       "      <td>8.0</td>\n",
       "      <td>0.200000</td>\n",
       "    </tr>\n",
       "    <tr>\n",
       "      <th>2</th>\n",
       "      <td>Total</td>\n",
       "      <td>820.0</td>\n",
       "      <td>421.0</td>\n",
       "      <td>435.0</td>\n",
       "      <td>0.479827</td>\n",
       "      <td>205.0</td>\n",
       "      <td>105.0</td>\n",
       "      <td>115.0</td>\n",
       "      <td>0.326316</td>\n",
       "    </tr>\n",
       "  </tbody>\n",
       "</table>\n",
       "</div>"
      ],
      "text/plain": [
       "   exang  train_records  train_actual  train_predicted  train_error  \\\n",
       "0      0          541.0         360.0            397.0     0.102778   \n",
       "1      1          279.0          61.0             38.0     0.377049   \n",
       "2  Total          820.0         421.0            435.0     0.479827   \n",
       "\n",
       "   test_records  test_actual  test_predicted  test_error  \n",
       "0         139.0         95.0           107.0    0.126316  \n",
       "1          66.0         10.0             8.0    0.200000  \n",
       "2         205.0        105.0           115.0    0.326316  "
      ]
     },
     "metadata": {},
     "output_type": "display_data"
    }
   ],
   "source": [
    "categorical_columns = ['cp', 'sex', 'fbs','thal', 'slope','restecg','exang']\n",
    "for col in categorical_columns:\n",
    "    tab_df = tabulate_category(train_df, test_df, col)\n",
    "    display(Markdown(f\"### Tab Chart for: `{col}`\"))\n",
    "    display(tab_df)"
   ]
  },
  {
   "cell_type": "code",
   "execution_count": null,
   "id": "76d554a3-4b1b-4518-b3ac-c6b76005d3b8",
   "metadata": {},
   "outputs": [],
   "source": []
  }
 ],
 "metadata": {
  "kernelspec": {
   "display_name": "Python 3 (ipykernel)",
   "language": "python",
   "name": "python3"
  },
  "language_info": {
   "codemirror_mode": {
    "name": "ipython",
    "version": 3
   },
   "file_extension": ".py",
   "mimetype": "text/x-python",
   "name": "python",
   "nbconvert_exporter": "python",
   "pygments_lexer": "ipython3",
   "version": "3.11.7"
  }
 },
 "nbformat": 4,
 "nbformat_minor": 5
}
